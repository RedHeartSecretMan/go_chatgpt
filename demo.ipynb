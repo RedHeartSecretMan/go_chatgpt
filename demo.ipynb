{
 "cells": [
  {
   "cell_type": "code",
   "execution_count": 1,
   "metadata": {},
   "outputs": [],
   "source": [
    "import os\n",
    "from chatgpter import CallChatGPT3\n",
    "from IPython.display import Markdown\n",
    "\n",
    "SESSIONNUM = 1\n",
    "SESSIONINDEX = 0"
   ]
  },
  {
   "cell_type": "code",
   "execution_count": 2,
   "metadata": {},
   "outputs": [],
   "source": [
    "with open(\"api_key.txt\", \"r\") as f:\n",
    "    api_key = f.read()"
   ]
  },
  {
   "cell_type": "code",
   "execution_count": 5,
   "metadata": {},
   "outputs": [
    {
     "name": "stdout",
     "output_type": "stream",
     "text": [
      "Running on local URL:  http://127.0.0.1:7860\n",
      "\n",
      "To create a public link, set `share=True` in `launch()`.\n"
     ]
    }
   ],
   "source": [
    "!python -m chatgpter -ak api_key"
   ]
  },
  {
   "cell_type": "code",
   "execution_count": 3,
   "metadata": {},
   "outputs": [],
   "source": [
    "gpt_model = CallChatGPT3(api_key=api_key,\n",
    "                         model=\"gpt-3.5-turbo\",\n",
    "                         n=SESSIONNUM)"
   ]
  },
  {
   "cell_type": "code",
   "execution_count": 4,
   "metadata": {},
   "outputs": [
    {
     "data": {
      "text/markdown": [
       "用python写一个方便增删查改mysql数据库的程序，加上注释！"
      ],
      "text/plain": [
       "<IPython.core.display.Markdown object>"
      ]
     },
     "metadata": {},
     "output_type": "display_data"
    },
    {
     "data": {
      "text/markdown": [
       "# 首先需要导入MySQLdb模块\n",
       "import MySQLdb\n",
       "\n",
       "# 定义连接数据库的函数，其中host为主机名，user为用户名，passwd为密码，db为要连的数据库名\n",
       "def conn_db(host,user,passwd,db):\n",
       "    conn = MySQLdb.connect(\n",
       "                    host=host,\n",
       "                    user=user,\n",
       "                    passwd=passwd,\n",
       "                    db=db,\n",
       "                    )\n",
       "    cursor = conn.cursor()\n",
       "    return conn,cursor\n",
       "\n",
       "# 定义查询函数，其中table为要查询的表名，cols为要查询的列名，cond为查询条件\n",
       "def select(table,cols,cond):\n",
       "    conn,cursor = conn_db('localhost','root','xxxxxx','test_db')    # 调用连接数据库函数，注意要填入合适的参数\n",
       "    sql = \"SELECT %s from %s WHERE %s\" %(cols,table,cond)    # 定义sql语句\n",
       "    cursor.execute(sql)    # 执行sql\n",
       "    result = cursor.fetchall()    # 获取查询结果\n",
       "    cursor.close()    # 关闭游标\n",
       "    conn.close()    # 关闭连接\n",
       "    return result\n",
       "\n",
       "# 定义插入函数，其中table为要插入的表名，keys为要插入的列名，values为要插入的值\n",
       "def insert(table,keys,values):\n",
       "    conn,cursor = conn_db('localhost','root','xxxxxx','test_db')\n",
       "    sql = \"INSERT INTO %s (%s) VALUES (%s)\" %(table,keys,values)\n",
       "    cursor.execute(sql)\n",
       "    cursor.close()\n",
       "    conn.commit()    # 提交更改\n",
       "    conn.close()\n",
       "\n",
       "# 定义删除函数，其中table为要删除的表名，cond为删除条件\n",
       "def delete(table,cond):\n",
       "    conn,cursor = conn_db('localhost','root','xxxxxx','test_db')\n",
       "    sql = \"DELETE FROM %s where %s\" %(table,cond)\n",
       "    cursor.execute(sql)\n",
       "    cursor.close()\n",
       "    conn.commit()\n",
       "    conn.close()\n",
       "\n",
       "# 定义更新函数，其中table为要更新的表名，col_and_vals为要更新的列名和值，cond为更新条件\n",
       "def update(table,col_and_vals,cond):\n",
       "    conn,cursor = conn_db('localhost','root','xxxxxx','test_db')\t\n",
       "    update_list = []    # 定义要更新的列的列表\n",
       "    for k,v in col_and_vals.items():    # 遍历传入的列和值，将其转化为SQL语句中的格式\n",
       "        update_list.append(\"%s='%s'\" %(k,v))\n",
       "    update_str = \",\".join(update_list)    # 将各个更新的列组合成一条SQL语句\n",
       "    sql = \"UPDATE %s SET %s WHERE %s\" %(table,update_str,cond)\n",
       "    cursor.execute(sql)\n",
       "    cursor.close()\n",
       "    conn.commit()\n",
       "    conn.close()\n",
       "\n",
       "# 测试函数\n",
       "def test_db():\n",
       "    # 测试查询函数\n",
       "    print(select('student','name,age','age<20'))\n",
       "    \n",
       "    # 测试插入函数\n",
       "    insert('student','name,age','Tom,19')\n",
       "    \n",
       "    # 测试删除函数\n",
       "    delete('student','age=18')\n",
       "    \n",
       "    # 测试更新函数\n",
       "    update('student',{'age':20},'name=\"Tom\"')\n",
       "\n",
       "if __name__ == '__main__':\n",
       "    test_db()    # 执行测试函数，可以看到各个函数的使用方法及效果"
      ],
      "text/plain": [
       "<IPython.core.display.Markdown object>"
      ]
     },
     "metadata": {},
     "output_type": "display_data"
    }
   ],
   "source": [
    "question = \"用python写一个方便增删查改mysql数据库的程序，加上注释！\"\n",
    "answer_list, _ = gpt_model(prompt=question)\n",
    "display(Markdown(question))\n",
    "display(Markdown(answer_list[SESSIONINDEX]))"
   ]
  },
  {
   "cell_type": "code",
   "execution_count": null,
   "metadata": {},
   "outputs": [],
   "source": [
    "filepath = os.path.join(gpt_model.logspath)\n",
    "with open(filepath, \"r\") as f:\n",
    "    logs =  f.read()\n",
    "\n",
    "display(Markdown(logs))"
   ]
  }
 ],
 "metadata": {
  "kernelspec": {
   "display_name": "openai",
   "language": "python",
   "name": "python3"
  },
  "language_info": {
   "codemirror_mode": {
    "name": "ipython",
    "version": 3
   },
   "file_extension": ".py",
   "mimetype": "text/x-python",
   "name": "python",
   "nbconvert_exporter": "python",
   "pygments_lexer": "ipython3",
   "version": "3.8.16"
  },
  "orig_nbformat": 4
 },
 "nbformat": 4,
 "nbformat_minor": 2
}
