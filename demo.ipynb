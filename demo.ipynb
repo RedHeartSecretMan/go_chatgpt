{
 "cells": [
  {
   "cell_type": "code",
   "execution_count": 1,
   "metadata": {},
   "outputs": [],
   "source": [
    "import os\n",
    "from chatgpter import CallChatGPT3\n",
    "from IPython.display import Markdown\n",
    "\n",
    "SESSIONNUM = 1\n",
    "SESSIONINDEX = 0"
   ]
  },
  {
   "cell_type": "code",
   "execution_count": 11,
   "metadata": {},
   "outputs": [],
   "source": [
    "with open(\"api_key.txt\", \"r\") as f:\n",
    "    api_key = f.read()"
   ]
  },
  {
   "cell_type": "code",
   "execution_count": null,
   "metadata": {},
   "outputs": [],
   "source": [
    "os.system(f\"python -m chatgpter -ak {api_key}\")"
   ]
  },
  {
   "cell_type": "code",
   "execution_count": 3,
   "metadata": {},
   "outputs": [],
   "source": [
    "gpt_model = CallChatGPT3(api_key=api_key,\n",
    "                         model=\"gpt-3.5-turbo\",\n",
    "                         n=SESSIONNUM)"
   ]
  },
  {
   "cell_type": "code",
   "execution_count": null,
   "metadata": {},
   "outputs": [],
   "source": [
    "question = \"用python写一个方便增删查改mysql数据库的程序，加上注释！\"\n",
    "answer_list, _ = gpt_model(prompt=question)\n",
    "display(Markdown(question))\n",
    "display(Markdown(answer_list[SESSIONINDEX]))"
   ]
  },
  {
   "cell_type": "code",
   "execution_count": null,
   "metadata": {},
   "outputs": [],
   "source": [
    "filepath = os.path.join(gpt_model.logspath)\n",
    "with open(filepath, \"r\") as f:\n",
    "    logs =  f.read()\n",
    "\n",
    "display(Markdown(logs))"
   ]
  }
 ],
 "metadata": {
  "kernelspec": {
   "display_name": "openai",
   "language": "python",
   "name": "python3"
  },
  "language_info": {
   "codemirror_mode": {
    "name": "ipython",
    "version": 3
   },
   "file_extension": ".py",
   "mimetype": "text/x-python",
   "name": "python",
   "nbconvert_exporter": "python",
   "pygments_lexer": "ipython3",
   "version": "3.8.16"
  },
  "orig_nbformat": 4
 },
 "nbformat": 4,
 "nbformat_minor": 2
}
