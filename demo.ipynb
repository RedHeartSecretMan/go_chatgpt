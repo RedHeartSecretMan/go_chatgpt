{
 "cells": [
  {
   "cell_type": "code",
   "execution_count": 10,
   "metadata": {},
   "outputs": [],
   "source": [
    "import os\n",
    "from chatgpter import CallChatGPT3\n",
    "from IPython.display import Markdown"
   ]
  },
  {
   "cell_type": "code",
   "execution_count": 11,
   "metadata": {},
   "outputs": [],
   "source": [
    "with open(\"api_key.txt\", \"r\") as f:\n",
    "    api_key = f.read()"
   ]
  },
  {
   "cell_type": "code",
   "execution_count": null,
   "metadata": {},
   "outputs": [],
   "source": [
    "%%timeit\n",
    "import openai\n",
    "\n",
    "\n",
    "openai.api_key = api_key\n",
    "messages = [{\"role\": \"user\", \"content\": \"这是一次测试！\"}]\n",
    "response = openai.ChatCompletion.create(model=\"gpt-3.5-turbo\",\n",
    "                                        messages=messages)"
   ]
  },
  {
   "cell_type": "code",
   "execution_count": null,
   "metadata": {},
   "outputs": [],
   "source": [
    "%%timeit\n",
    "import io\n",
    "import openai\n",
    "\n",
    "\n",
    "openai.api_key = api_key\n",
    "messages = [{\"role\": \"user\", \"content\": \"这是一次测试！\"}]\n",
    "response = openai.ChatCompletion.create(model=\"gpt-3.5-turbo\",\n",
    "                                        messages=messages,\n",
    "                                        stream=True)\n",
    "\n",
    "string_io = io.StringIO()\n",
    "for idx, chunk in enumerate(response):\n",
    "    if chunk[\"choices\"][0][\"finish_reason\"] != \"stop\": \n",
    "        if chunk[\"choices\"][0][\"delta\"].get(\"content\"):\n",
    "            string_io.write(chunk[\"choices\"][0][\"delta\"][\"content\"])\n",
    "\n",
    "print(string_io.getvalue())"
   ]
  },
  {
   "cell_type": "code",
   "execution_count": 12,
   "metadata": {},
   "outputs": [],
   "source": [
    "SESSIONNUM = 1\n",
    "SESSIONINDEX = 0\n",
    "\n",
    "gpt_model = CallChatGPT3(api_key=api_key,\n",
    "                         model=\"gpt-3.5-turbo\",\n",
    "                         n=SESSIONNUM)\n",
    "\n",
    "question = \"这是一次测试！\"\n",
    "answer_list = gpt_model(prompt=question)\n",
    "display(Markdown(question))\n",
    "display(Markdown(answer_list[SESSIONINDEX]))"
   ]
  },
  {
   "cell_type": "code",
   "execution_count": null,
   "metadata": {},
   "outputs": [],
   "source": [
    "os.system(f\"python -m chatgpter -ak {api_key}\")"
   ]
  }
 ],
 "metadata": {
  "kernelspec": {
   "display_name": "openai",
   "language": "python",
   "name": "python3"
  },
  "language_info": {
   "codemirror_mode": {
    "name": "ipython",
    "version": 3
   },
   "file_extension": ".py",
   "mimetype": "text/x-python",
   "name": "python",
   "nbconvert_exporter": "python",
   "pygments_lexer": "ipython3",
   "version": "3.8.16"
  },
  "orig_nbformat": 4
 },
 "nbformat": 4,
 "nbformat_minor": 2
}
