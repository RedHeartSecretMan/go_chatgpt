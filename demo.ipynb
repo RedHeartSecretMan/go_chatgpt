{
 "cells": [
  {
   "cell_type": "code",
   "execution_count": 1,
   "metadata": {},
   "outputs": [],
   "source": [
    "import os\n",
    "import io\n",
    "import json\n",
    "import openai\n",
    "import requests\n",
    "import tiktoken\n",
    "from objprint import op\n",
    "from chatgpter import CallChatGPT, password_generator\n",
    "from IPython.display import Markdown"
   ]
  },
  {
   "cell_type": "code",
   "execution_count": 2,
   "metadata": {},
   "outputs": [],
   "source": [
    "with open(\"api_key.txt\", \"r\") as f:\n",
    "    api_key = f.read().split(\"\\n\")\n",
    "    api_key = api_key[0]\n",
    "    \n",
    "input_text = \"这是一次测试！\""
   ]
  },
  {
   "attachments": {},
   "cell_type": "markdown",
   "metadata": {},
   "source": [
    "# 测试API"
   ]
  },
  {
   "attachments": {},
   "cell_type": "markdown",
   "metadata": {},
   "source": [
    "## openai.ChatCompletion.create stream=False"
   ]
  },
  {
   "cell_type": "code",
   "execution_count": null,
   "metadata": {},
   "outputs": [],
   "source": [
    "openai.api_key = api_key\n",
    "messages = [{\"role\": \"user\", \"content\": input_text}]\n",
    "prompt = \"You are a helpful assistant.\"\n",
    "messages.insert(0, {\"role\": \"system\", \"content\": prompt})\n",
    "prompt = \"You are a helpful assistant.\"\n",
    "messages.insert(0, {\"role\": \"system\", \"content\": prompt})\n",
    "response = openai.ChatCompletion.create(model=\"gpt-3.5-turbo\",\n",
    "                                        messages=messages,\n",
    "                                        n=1,\n",
    "                                        stream=False)\n",
    "\n",
    "print(response)\n",
    "print(response[\"usage\"])\n",
    "print(response[\"choices\"][0][\"message\"][\"content\"])"
   ]
  },
  {
   "attachments": {},
   "cell_type": "markdown",
   "metadata": {},
   "source": [
    "## openai.ChatCompletion.create stream=True"
   ]
  },
  {
   "cell_type": "code",
   "execution_count": null,
   "metadata": {},
   "outputs": [],
   "source": [
    "openai.api_key = api_key\n",
    "messages = [{\"role\": \"user\", \"content\": input_text}]\n",
    "prompt = \"You are a helpful assistant.\"\n",
    "messages.insert(0, {\"role\": \"system\", \"content\": prompt})\n",
    "response = openai.ChatCompletion.create(model=\"gpt-3.5-turbo\",\n",
    "                                        messages=messages,\n",
    "                                        stream=True,)\n",
    "\n",
    "string_io = io.StringIO()\n",
    "for idx, chunk in enumerate(response):\n",
    "    print(chunk)\n",
    "    if chunk[\"choices\"][0][\"finish_reason\"] != \"stop\": \n",
    "        if chunk[\"choices\"][0].get(\"delta\"):\n",
    "            if chunk[\"choices\"][0][\"delta\"].get(\"content\"):\n",
    "                string_io.write(chunk[\"choices\"][0][\"delta\"][\"content\"])\n",
    "                print(string_io.getvalue())\n",
    "\n",
    "print(idx, string_io.getvalue())"
   ]
  },
  {
   "attachments": {},
   "cell_type": "markdown",
   "metadata": {},
   "source": [
    "## openai.ChatCompletion.create stream=True gradio"
   ]
  },
  {
   "cell_type": "code",
   "execution_count": null,
   "metadata": {},
   "outputs": [],
   "source": [
    "def predict(messages):\n",
    "    openai.api_key = api_key\n",
    "    response = openai.ChatCompletion.create(model=\"gpt-3.5-turbo\",\n",
    "                                            messages=messages,\n",
    "                                            stream=True,)\n",
    "\n",
    "    return response\n",
    "\n",
    "\n",
    "def get_stream_value(input_text):\n",
    "    output_text = \"\"\n",
    "    string_io = io.StringIO()\n",
    "    yield string_io.getvalue()\n",
    "    \n",
    "    messages = [{\"role\": \"user\", \"content\": f\"{input_text}\"}]\n",
    "    prompt = \"You are a helpful assistant.\"\n",
    "    messages.insert(0, {\"role\": \"system\", \"content\": prompt})\n",
    "\n",
    "    response = predict(messages)\n",
    "    \n",
    "    messages.append({})\n",
    "    for idx, chunk in enumerate(response):\n",
    "        if chunk[\"choices\"][0][\"finish_reason\"] != \"stop\":\n",
    "            if chunk[\"choices\"][0].get(\"delta\"):\n",
    "                if chunk[\"choices\"][0][\"delta\"].get(\"content\"):\n",
    "                    string_io.write(chunk[\"choices\"][0][\"delta\"][\"content\"])\n",
    "                    output_text = string_io.getvalue()\n",
    "                    messages[-1] = {\"role\": \"assistant\", \"content\": output_text}\n",
    "                    yield string_io.getvalue()\n",
    "    \n",
    "    print(idx, output_text, messages)\n",
    "     \n",
    "\n",
    "with gr.Blocks() as demo:\n",
    "    with gr.Row(variant=\"default\").style(equal_height=True):\n",
    "        input_text = gr.Textbox(label=\"in\")\n",
    "        output_text = gr.Textbox(label=\"out\")\n",
    "    input_text.submit(fn=get_stream_value, inputs=[input_text], outputs=[output_text])\n",
    "    \n",
    "\n",
    "demo.queue().launch()"
   ]
  },
  {
   "attachments": {},
   "cell_type": "markdown",
   "metadata": {},
   "source": [
    "## requres.post stream=False"
   ]
  },
  {
   "cell_type": "code",
   "execution_count": null,
   "metadata": {},
   "outputs": [],
   "source": [
    "messages = [{\"role\": \"user\", \"content\": input_text}] \n",
    "prompt = \"You are a helpful assistant.\"\n",
    "messages.insert(0, {\"role\": \"system\", \"content\": prompt})\n",
    "payload = {\n",
    "    \"model\": \"gpt-3.5-turbo\",\n",
    "    \"messages\": messages,\n",
    "    \"temperature\": 1,\n",
    "    \"top_p\": 1,\n",
    "    \"n\": 1,\n",
    "    \"stream\": False,\n",
    "    \"presence_penalty\": 0,\n",
    "    \"frequency_penalty\": 0,\n",
    "}\n",
    "headers = {\n",
    "    \"Content-Type\": \"application/json\",\n",
    "    \"Authorization\": f\"Bearer {api_key}\"\n",
    "}\n",
    "proxies = {\n",
    "    \"http\": f\"http://127.0.0.1:{7890}\",\n",
    "    \"https\": f\"http://127.0.0.1:{7890}\"\n",
    "}\n",
    "api_url = \"https://api.openai.com/v1/chat/completions\"\n",
    "\n",
    "response = requests.post(api_url,\n",
    "                        json=payload,\n",
    "                        headers=headers,\n",
    "                        timeout=30,\n",
    "                        proxies=proxies,\n",
    "                        stream=False,)\n",
    "\n",
    "response = json.loads(response.text)\n",
    "op(response)\n",
    "op(response[\"usage\"])\n",
    "print(response[\"choices\"][0][\"message\"][\"content\"])"
   ]
  },
  {
   "attachments": {},
   "cell_type": "markdown",
   "metadata": {},
   "source": [
    "## requres.post stream=True"
   ]
  },
  {
   "cell_type": "code",
   "execution_count": null,
   "metadata": {},
   "outputs": [],
   "source": [
    "try:\n",
    "    tokenizer = tiktoken.encoding_for_model(\"gpt-3.5-turbo\")\n",
    "except KeyError:\n",
    "    tokenizer = tiktoken.get_encoding(\"cl100k_base\")\n",
    "messages = [{\"role\": \"user\", \"content\": input_text}]\n",
    "prompt = \"You are a helpful assistant.\"\n",
    "messages.insert(0, {\"role\": \"system\", \"content\": prompt})\n",
    "\n",
    "message = \"\".join([f\"role: {msg['role']}, content: {msg['content']}\" for msg in messages])\n",
    "print(len(tokenizer.encode(message)))"
   ]
  },
  {
   "cell_type": "code",
   "execution_count": null,
   "metadata": {},
   "outputs": [],
   "source": [
    "## socket"
   ]
  },
  {
   "cell_type": "code",
   "execution_count": null,
   "metadata": {},
   "outputs": [],
   "source": [
    "def is_port_in_use(port):\n",
    "    with socket.socket(socket.AF_INET, socket.SOCK_STREAM) as s:\n",
    "        return s.connect_ex(('localhost', port)) == 0\n",
    "\n",
    "print(is_port_in_use(7890))"
   ]
  },
  {
   "attachments": {},
   "cell_type": "markdown",
   "metadata": {},
   "source": [
    "# 测试模型"
   ]
  },
  {
   "cell_type": "code",
   "execution_count": null,
   "metadata": {},
   "outputs": [],
   "source": [
    "gpt_model = CallChatGPT(model=\"gpt-3.5-turbo\", n=1)\n",
    "display(Markdown(input_text))\n",
    "for answer in gpt_model(prompt=input_text):\n",
    "    display(Markdown(answer))"
   ]
  },
  {
   "cell_type": "code",
   "execution_count": null,
   "metadata": {},
   "outputs": [],
   "source": [
    "display(f\"日志密码 {password_generator()}\")\n",
    "os.system(f\"python -m chatgpter -ak {api_key}\")"
   ]
  }
 ],
 "metadata": {
  "kernelspec": {
   "display_name": "openai",
   "language": "python",
   "name": "python3"
  },
  "language_info": {
   "codemirror_mode": {
    "name": "ipython",
    "version": 3
   },
   "file_extension": ".py",
   "mimetype": "text/x-python",
   "name": "python",
   "nbconvert_exporter": "python",
   "pygments_lexer": "ipython3",
   "version": "3.8.16"
  },
  "orig_nbformat": 4
 },
 "nbformat": 4,
 "nbformat_minor": 2
}
