{
 "cells": [
  {
   "cell_type": "code",
   "execution_count": 2,
   "metadata": {},
   "outputs": [],
   "source": [
    "import os\n",
    "import io\n",
    "import json\n",
    "import socket\n",
    "import openai\n",
    "import requests\n",
    "import tiktoken\n",
    "from objprint import op\n",
    "from chatgpter import CallChatGPT\n",
    "from IPython.display import Markdown"
   ]
  },
  {
   "cell_type": "code",
   "execution_count": 3,
   "metadata": {},
   "outputs": [],
   "source": [
    "with open(\"api_key.txt\", \"r\") as f:\n",
    "    api_key = f.read().split(\"\\n\")\n",
    "    api_key = api_key[0]"
   ]
  },
  {
   "attachments": {},
   "cell_type": "markdown",
   "metadata": {},
   "source": [
    "# 测试API"
   ]
  },
  {
   "cell_type": "code",
   "execution_count": null,
   "metadata": {},
   "outputs": [],
   "source": [
    "%%timeit\n",
    "openai.api_key = api_key\n",
    "messages = [{\"role\": \"user\", \"content\": \"这是一次测试！\"}]\n",
    "prompt = \"You are a helpful assistant.\"\n",
    "messages.insert(0, {\"role\": \"system\", \"content\": prompt})\n",
    "prompt = \"You are a helpful assistant.\"\n",
    "messages.insert(0, {\"role\": \"system\", \"content\": prompt})\n",
    "response = openai.ChatCompletion.create(model=\"gpt-3.5-turbo\",\n",
    "                                        messages=messages,\n",
    "                                        n=1,)\n",
    "\n",
    "print(response)\n",
    "print(response[\"usage\"])\n",
    "print(response[\"choices\"][0][\"message\"][\"content\"])"
   ]
  },
  {
   "cell_type": "code",
   "execution_count": null,
   "metadata": {},
   "outputs": [],
   "source": [
    "%%timeit\n",
    "openai.api_key = api_key\n",
    "messages = [{\"role\": \"user\", \"content\": \"这是一次测试！\"}]\n",
    "prompt = \"You are a helpful assistant.\"\n",
    "messages.insert(0, {\"role\": \"system\", \"content\": prompt})\n",
    "response = openai.ChatCompletion.create(model=\"gpt-3.5-turbo\",\n",
    "                                        messages=messages,\n",
    "                                        stream=True,)\n",
    "\n",
    "string_io = io.StringIO()\n",
    "for idx, chunk in enumerate(response):\n",
    "    print(chunk)\n",
    "    if chunk[\"choices\"][0][\"finish_reason\"] != \"stop\": \n",
    "        if chunk[\"choices\"][0][\"delta\"].get(\"content\"):\n",
    "            string_io.write(chunk[\"choices\"][0][\"delta\"][\"content\"])\n",
    "\n",
    "print(string_io.getvalue())"
   ]
  },
  {
   "cell_type": "code",
   "execution_count": null,
   "metadata": {},
   "outputs": [],
   "source": [
    "%%timeit\n",
    "messages = [{\"role\": \"user\", \"content\": \"这是一次测试！\"}] \n",
    "prompt = \"You are a helpful assistant.\"\n",
    "messages.insert(0, {\"role\": \"system\", \"content\": prompt})\n",
    "payload = {\n",
    "    \"model\": \"gpt-3.5-turbo\",\n",
    "    \"messages\": messages,\n",
    "    \"temperature\": 1,\n",
    "    \"top_p\": 1,\n",
    "    \"n\": 1,\n",
    "    \"stream\": False,\n",
    "    \"presence_penalty\": 0,\n",
    "    \"frequency_penalty\": 0,\n",
    "}\n",
    "headers = {\n",
    "    \"Content-Type\": \"application/json\",\n",
    "    \"Authorization\": f\"Bearer {api_key}\"\n",
    "}\n",
    "proxies = {\n",
    "    \"http\": f\"http://127.0.0.1:{7890}\",\n",
    "    \"https\": f\"http://127.0.0.1:{7890}\"\n",
    "}\n",
    "api_url = \"https://api.openai.com/v1/chat/completions\"\n",
    "response = requests.post(api_url,\n",
    "                        json=payload,\n",
    "                        headers=headers,\n",
    "                        timeout=200,\n",
    "                        proxies=proxies,\n",
    "                        stream=True,)\n",
    "\n",
    "response = json.loads(response.text)\n",
    "op(response)\n",
    "op(response[\"usage\"])\n",
    "print(response[\"choices\"][0][\"message\"][\"content\"])"
   ]
  },
  {
   "cell_type": "code",
   "execution_count": null,
   "metadata": {},
   "outputs": [],
   "source": [
    "try:\n",
    "    tokenizer = tiktoken.encoding_for_model(\"gpt-3.5-turbo\")\n",
    "except KeyError:\n",
    "    tokenizer = tiktoken.get_encoding(\"cl100k_base\")\n",
    "messages = [{\"role\": \"user\", \"content\": \"这是一次测试！\"}]\n",
    "prompt = \"You are a helpful assistant.\"\n",
    "messages.insert(0, {\"role\": \"system\", \"content\": prompt})\n",
    "\n",
    "message = \"\".join([f\"role: {msg['role']}, content: {msg['content']}\" for msg in messages])\n",
    "print(len(tokenizer.encode(message)))"
   ]
  },
  {
   "cell_type": "code",
   "execution_count": null,
   "metadata": {},
   "outputs": [],
   "source": [
    "def is_port_in_use(port):\n",
    "    with socket.socket(socket.AF_INET, socket.SOCK_STREAM) as s:\n",
    "        return s.connect_ex(('localhost', port)) == 0\n",
    "\n",
    "print(is_port_in_use(7890))"
   ]
  },
  {
   "attachments": {},
   "cell_type": "markdown",
   "metadata": {},
   "source": [
    "# 测试模型"
   ]
  },
  {
   "cell_type": "code",
   "execution_count": null,
   "metadata": {},
   "outputs": [],
   "source": [
    "SESSIONNUM = 1\n",
    "SESSIONINDEX = 0\n",
    "\n",
    "gpt_model = CallChatGPT(model=\"gpt-3.5-turbo\",\n",
    "                        n=SESSIONNUM)\n",
    "\n",
    "question = \"这是一次测试！\"\n",
    "answer_list = gpt_model(prompt=question)\n",
    "display(Markdown(question))\n",
    "display(Markdown(answer_list[SESSIONINDEX]))"
   ]
  },
  {
   "cell_type": "code",
   "execution_count": null,
   "metadata": {},
   "outputs": [],
   "source": [
    "os.system(f\"python -m chatgpter -ak {api_key}\")"
   ]
  }
 ],
 "metadata": {
  "kernelspec": {
   "display_name": "openai",
   "language": "python",
   "name": "python3"
  },
  "language_info": {
   "codemirror_mode": {
    "name": "ipython",
    "version": 3
   },
   "file_extension": ".py",
   "mimetype": "text/x-python",
   "name": "python",
   "nbconvert_exporter": "python",
   "pygments_lexer": "ipython3",
   "version": "3.8.16"
  },
  "orig_nbformat": 4
 },
 "nbformat": 4,
 "nbformat_minor": 2
}
